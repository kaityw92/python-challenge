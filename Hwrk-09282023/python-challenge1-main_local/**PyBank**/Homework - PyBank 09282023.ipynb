{
 "cells": [
  {
   "cell_type": "code",
   "execution_count": null,
   "id": "e1b9095b-610c-4a6c-aff4-ebb576b0a314",
   "metadata": {},
   "outputs": [],
   "source": [
    "Your task is to create a Python script that analyzes the records to calculate each of the following:\n",
    "\n",
    "* The total number of months included in the dataset.\n",
    "\n",
    "* The net total amount of Profit/Losses over the entire period.\n",
    "\n",
    "* The average of the changes in Profit/Losses over the entire period.\n",
    "\n",
    "* The greatest increase in profits (date and amount) over the entire period.\n",
    "\n",
    "* The greatest decrease in losses (date and amount) over the entire period.\n",
    "\n",
    "Your resulting analysis should look similar to the following:\n",
    "\n",
    "  ```text\n",
    "  Financial Analysis\n",
    "  ----------------------------\n",
    "  Total Months: 86\n",
    "  Total: $38382578\n",
    "  Average  Change: $-2315.12\n",
    "  Greatest Increase in Profits: Feb-2012 ($1926159)\n",
    "  Greatest Decrease in Profits: Sep-2013 ($-2196167)\n",
    "  ```\n",
    "\n",
    "Your final script should print the analysis to the terminal and export a text file with the results.\n"
   ]
  },
  {
   "cell_type": "code",
   "execution_count": 3,
   "id": "abbd3941-e24e-412c-8a02-3b113f37ec8b",
   "metadata": {
    "tags": []
   },
   "outputs": [],
   "source": [
    "# Import the pathlib and csv library\n",
    "from pathlib import Path\n",
    "import csv\n"
   ]
  },
  {
   "cell_type": "code",
   "execution_count": 16,
   "id": "a9d1963f-1f56-4c50-9217-ede180da515d",
   "metadata": {
    "tags": []
   },
   "outputs": [],
   "source": [
    "# Set the file path\n",
    "file_to_load = Path(\"/Users/kaitywilkerson/Desktop/tutoring/budget_data.csv\")\n",
    "file_to_output = Path(\"../budget_data.csv\")"
   ]
  },
  {
   "cell_type": "code",
   "execution_count": 17,
   "id": "3e8b8e90-f7e8-4a35-8349-b9b16457f63f",
   "metadata": {
    "tags": []
   },
   "outputs": [],
   "source": [
    "total_months = 0\n",
    "month_of_change = []\n",
    "net_change_list = []\n",
    "greatest_increase = [\"\", 0]\n",
    "greatest_decrease = [\"\", 99999999999999999999]\n",
    "total_net = 0"
   ]
  },
  {
   "cell_type": "code",
   "execution_count": 18,
   "id": "c3567cef-b62a-4442-be94-62463d61e270",
   "metadata": {
    "tags": []
   },
   "outputs": [],
   "source": [
    "with open(file_to_load) as financial_data:\n",
    "        reader = csv.reader(financial_data)\n",
    "        \n",
    "        header = next(reader)\n",
    "        \n",
    "        first_row = next(reader)\n",
    "        total_months = total_months + 1\n",
    "        total_net = total_net + int(first_row[1])\n",
    "        prev_net = int(first_row[1])\n",
    "        \n",
    "        for row in reader:\n",
    "            total_months = total_months +1\n",
    "            total_net = total_net +int(row[1])\n",
    "            \n",
    "            net_change = int(row[1]) - prev_net\n",
    "            prev_net = int(row[1])\n",
    "            net_change_list = net_change_list + [net_change]\n",
    "            month_of_change = month_of_change + [row[0]]\n",
    "            \n",
    "            if net_change > greatest_increase[1]:\n",
    "                    greatest_increase[0] = row[0]\n",
    "                    greatest_increase[1] = net_change\n",
    "                    \n",
    "            if net_change < greatest_decrease[1]:\n",
    "                greatest_decrease[0] = row[0]\n",
    "                greatest_decrease[1] = net_change\n"
   ]
  },
  {
   "cell_type": "code",
   "execution_count": 19,
   "id": "ac6ef77b-f6fd-46b8-a603-9a2670ef1ce7",
   "metadata": {
    "tags": []
   },
   "outputs": [],
   "source": [
    "net_monthly_avg = round(sum(net_change_list) / len(net_change_list),2)"
   ]
  },
  {
   "cell_type": "code",
   "execution_count": 21,
   "id": "5d6c8bc6-d38e-46f2-b304-c3761e6ba1f2",
   "metadata": {
    "tags": []
   },
   "outputs": [],
   "source": [
    "with open(file_to_output, \"w\") as txt_file:\n",
    "    txt_file.write(f\"Financial Analysis/n\")\n",
    "    txt_file.write(f\"-------------------------\\n\")\n",
    "    txt_file.write(f\"Total Months: {total_months}\\n\")\n",
    "    txt_file.write(f\"Total: ${total_net}\\n\")\n",
    "    txt_file.write(f\"Average Change ${net_monthly_avg}\\n\")\n",
    "    txt_file.write(f\"Greatest Increase in Profits: {greatest_increase[0]} (${greatest_increase[1]})\\n\")\n",
    "    txt_file.write(f\"Greatest Decrease in Profits: {greatest_decrease[0]} (${greatest_decrease[1]})\\n\")"
   ]
  },
  {
   "cell_type": "code",
   "execution_count": 22,
   "id": "06d3ef31-5e09-4ac0-98f8-9df8addc8491",
   "metadata": {
    "tags": []
   },
   "outputs": [
    {
     "name": "stdout",
     "output_type": "stream",
     "text": [
      "Financial Analysis/n\n",
      "-------------------------\n",
      "\n",
      "Total Months: 86\n",
      "\n",
      "Total: $38382578\n",
      "\n",
      "Average Change $-2315.12\n",
      "\n",
      "Greatest Increase in Profits: Feb-2012 ($1926159)\n",
      "\n",
      "Greatest Decrease in Profits: Sep-2013 ($-2196167)\n",
      "\n"
     ]
    }
   ],
   "source": [
    "with open(file_to_output, \"w\") as txt_file:\n",
    "    print(f\"Financial Analysis/n\")\n",
    "    print(f\"-------------------------\\n\")\n",
    "    print(f\"Total Months: {total_months}\\n\")\n",
    "    print(f\"Total: ${total_net}\\n\")\n",
    "    print(f\"Average Change ${net_monthly_avg}\\n\")\n",
    "    print(f\"Greatest Increase in Profits: {greatest_increase[0]} (${greatest_increase[1]})\\n\")\n",
    "    print(f\"Greatest Decrease in Profits: {greatest_decrease[0]} (${greatest_decrease[1]})\\n\")"
   ]
  }
 ],
 "metadata": {
  "kernelspec": {
   "display_name": "Python 3 (ipykernel)",
   "language": "python",
   "name": "python3"
  },
  "language_info": {
   "codemirror_mode": {
    "name": "ipython",
    "version": 3
   },
   "file_extension": ".py",
   "mimetype": "text/x-python",
   "name": "python",
   "nbconvert_exporter": "python",
   "pygments_lexer": "ipython3",
   "version": "3.11.4"
  }
 },
 "nbformat": 4,
 "nbformat_minor": 5
}
